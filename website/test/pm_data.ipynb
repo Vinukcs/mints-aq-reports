{
 "cells": [
  {
   "attachments": {},
   "cell_type": "markdown",
   "id": "c5dc789b",
   "metadata": {
    "papermill": {
     "duration": 0.002004,
     "end_time": "2023-05-31T22:00:22.817341",
     "exception": false,
     "start_time": "2023-05-31T22:00:22.815337",
     "status": "completed"
    },
    "tags": []
   },
   "source": [
    "---\n",
    "title: \"PM Data\"\n",
    "execute:\n",
    "  echo: false\n",
    "  output: false\n",
    "---\n",
    "\n",
    "This notebook is a first pass on pulling and visualizing PM data stored on the [Open Storage Network](https://openstoragenetwork.readthedocs.io/en/latest/index.html)"
   ]
  },
  {
   "cell_type": "code",
   "execution_count": 1,
   "id": "7835e309",
   "metadata": {
    "execution": {
     "iopub.execute_input": "2023-05-31T22:00:22.823341Z",
     "iopub.status.busy": "2023-05-31T22:00:22.822341Z",
     "iopub.status.idle": "2023-05-31T22:00:23.533333Z",
     "shell.execute_reply": "2023-05-31T22:00:23.533333Z"
    },
    "papermill": {
     "duration": 0.714989,
     "end_time": "2023-05-31T22:00:23.535332",
     "exception": false,
     "start_time": "2023-05-31T22:00:22.820343",
     "status": "completed"
    },
    "tags": []
   },
   "outputs": [],
   "source": [
    "import pandas as pd\n",
    "import matplotlib.pyplot as plt"
   ]
  },
  {
   "cell_type": "code",
   "execution_count": 2,
   "id": "78e6c5db",
   "metadata": {
    "execution": {
     "iopub.execute_input": "2023-05-31T22:00:23.540332Z",
     "iopub.status.busy": "2023-05-31T22:00:23.539333Z",
     "iopub.status.idle": "2023-05-31T22:00:23.549332Z",
     "shell.execute_reply": "2023-05-31T22:00:23.549332Z"
    },
    "papermill": {
     "duration": 0.013001,
     "end_time": "2023-05-31T22:00:23.550333",
     "exception": false,
     "start_time": "2023-05-31T22:00:23.537332",
     "status": "completed"
    },
    "tags": []
   },
   "outputs": [],
   "source": [
    "def loadData(url):\n",
    "    \"\"\" \n",
    "    Load in data from a given url and parse the datatime column. If needed, convert timezones and set datetime as index. \n",
    "\n",
    "    Args:\n",
    "        string containing the url.\n",
    "\n",
    "    Returns:\n",
    "        dataframe\n",
    "    \"\"\"\n",
    "    # server_timezone = \"UTC\"\n",
    "    # new_timezone = \"US/Central\"\n",
    "    df = pd.read_csv(url)\n",
    "    df['dateTime'] = pd.to_datetime(df['dateTime'])\n",
    "    # df = df.set_index('dateTime')\n",
    "    # df.index = df.index.tz_localize(tz='UTC').tz_convert(tz='US/Central')\n",
    "\n",
    "    return df"
   ]
  },
  {
   "cell_type": "code",
   "execution_count": 3,
   "id": "96ac0261",
   "metadata": {
    "execution": {
     "iopub.execute_input": "2023-05-31T22:00:23.555332Z",
     "iopub.status.busy": "2023-05-31T22:00:23.554332Z",
     "iopub.status.idle": "2023-05-31T22:00:23.891357Z",
     "shell.execute_reply": "2023-05-31T22:00:23.891357Z"
    },
    "papermill": {
     "duration": 0.341027,
     "end_time": "2023-05-31T22:00:23.893359",
     "exception": false,
     "start_time": "2023-05-31T22:00:23.552332",
     "status": "completed"
    },
    "tags": []
   },
   "outputs": [
    {
     "data": {
      "text/html": [
       "<div>\n",
       "<style scoped>\n",
       "    .dataframe tbody tr th:only-of-type {\n",
       "        vertical-align: middle;\n",
       "    }\n",
       "\n",
       "    .dataframe tbody tr th {\n",
       "        vertical-align: top;\n",
       "    }\n",
       "\n",
       "    .dataframe thead th {\n",
       "        text-align: right;\n",
       "    }\n",
       "</style>\n",
       "<table border=\"1\" class=\"dataframe\">\n",
       "  <thead>\n",
       "    <tr style=\"text-align: right;\">\n",
       "      <th></th>\n",
       "      <th>dateTime</th>\n",
       "      <th>temperature</th>\n",
       "      <th>pressure</th>\n",
       "      <th>humidity</th>\n",
       "      <th>altitude</th>\n",
       "    </tr>\n",
       "  </thead>\n",
       "  <tbody>\n",
       "    <tr>\n",
       "      <th>0</th>\n",
       "      <td>2023-05-02 00:00:01.768982</td>\n",
       "      <td>23.12</td>\n",
       "      <td>99579.0</td>\n",
       "      <td>31.0</td>\n",
       "      <td>146.37</td>\n",
       "    </tr>\n",
       "    <tr>\n",
       "      <th>1</th>\n",
       "      <td>2023-05-02 00:00:11.784763</td>\n",
       "      <td>23.14</td>\n",
       "      <td>99573.0</td>\n",
       "      <td>31.0</td>\n",
       "      <td>146.87</td>\n",
       "    </tr>\n",
       "    <tr>\n",
       "      <th>2</th>\n",
       "      <td>2023-05-02 00:00:21.815439</td>\n",
       "      <td>23.12</td>\n",
       "      <td>99577.0</td>\n",
       "      <td>31.0</td>\n",
       "      <td>146.54</td>\n",
       "    </tr>\n",
       "    <tr>\n",
       "      <th>3</th>\n",
       "      <td>2023-05-02 00:00:31.846306</td>\n",
       "      <td>23.12</td>\n",
       "      <td>99572.0</td>\n",
       "      <td>30.0</td>\n",
       "      <td>146.96</td>\n",
       "    </tr>\n",
       "    <tr>\n",
       "      <th>4</th>\n",
       "      <td>2023-05-02 00:00:41.861709</td>\n",
       "      <td>23.12</td>\n",
       "      <td>99570.0</td>\n",
       "      <td>30.0</td>\n",
       "      <td>147.13</td>\n",
       "    </tr>\n",
       "  </tbody>\n",
       "</table>\n",
       "</div>"
      ],
      "text/plain": [
       "                    dateTime  temperature  pressure  humidity  altitude\n",
       "0 2023-05-02 00:00:01.768982        23.12   99579.0      31.0    146.37\n",
       "1 2023-05-02 00:00:11.784763        23.14   99573.0      31.0    146.87\n",
       "2 2023-05-02 00:00:21.815439        23.12   99577.0      31.0    146.54\n",
       "3 2023-05-02 00:00:31.846306        23.12   99572.0      30.0    146.96\n",
       "4 2023-05-02 00:00:41.861709        23.12   99570.0      30.0    147.13"
      ]
     },
     "execution_count": 3,
     "metadata": {},
     "output_type": "execute_result"
    }
   ],
   "source": [
    "#| echo: true\n",
    "#| output: true\n",
    "# read bme data from url for may 2nd\n",
    "bme_url = \"https://ncsa.osn.xsede.org/ees230012-bucket01/central-node-8/2023/2023/05/02/MINTS_001e06323a37_BME280_2023_05_02.csv\"\n",
    "bme_df = loadData(bme_url)\n",
    "bme_df.head()"
   ]
  },
  {
   "cell_type": "code",
   "execution_count": 4,
   "id": "26077c12",
   "metadata": {
    "execution": {
     "iopub.execute_input": "2023-05-31T22:00:23.898358Z",
     "iopub.status.busy": "2023-05-31T22:00:23.897360Z",
     "iopub.status.idle": "2023-05-31T22:00:24.907642Z",
     "shell.execute_reply": "2023-05-31T22:00:24.907642Z"
    },
    "papermill": {
     "duration": 1.014289,
     "end_time": "2023-05-31T22:00:24.909646",
     "exception": false,
     "start_time": "2023-05-31T22:00:23.895357",
     "status": "completed"
    },
    "tags": []
   },
   "outputs": [
    {
     "data": {
      "text/html": [
       "<div>\n",
       "<style scoped>\n",
       "    .dataframe tbody tr th:only-of-type {\n",
       "        vertical-align: middle;\n",
       "    }\n",
       "\n",
       "    .dataframe tbody tr th {\n",
       "        vertical-align: top;\n",
       "    }\n",
       "\n",
       "    .dataframe thead th {\n",
       "        text-align: right;\n",
       "    }\n",
       "</style>\n",
       "<table border=\"1\" class=\"dataframe\">\n",
       "  <thead>\n",
       "    <tr style=\"text-align: right;\">\n",
       "      <th></th>\n",
       "      <th>dateTime</th>\n",
       "      <th>pc0_1</th>\n",
       "      <th>pc0_3</th>\n",
       "      <th>pc0_5</th>\n",
       "      <th>pc1_0</th>\n",
       "      <th>pc2_5</th>\n",
       "      <th>pc5_0</th>\n",
       "      <th>pc10_0</th>\n",
       "      <th>pm0_1</th>\n",
       "      <th>pm0_3</th>\n",
       "      <th>pm0_5</th>\n",
       "      <th>pm1_0</th>\n",
       "      <th>pm2_5</th>\n",
       "      <th>pm5_0</th>\n",
       "      <th>pm10_0</th>\n",
       "    </tr>\n",
       "  </thead>\n",
       "  <tbody>\n",
       "    <tr>\n",
       "      <th>0</th>\n",
       "      <td>2023-05-02 00:00:00.153699</td>\n",
       "      <td>11512</td>\n",
       "      <td>5101</td>\n",
       "      <td>1093</td>\n",
       "      <td>93</td>\n",
       "      <td>16</td>\n",
       "      <td>0</td>\n",
       "      <td>0</td>\n",
       "      <td>0.009619</td>\n",
       "      <td>0.124717</td>\n",
       "      <td>0.238913</td>\n",
       "      <td>0.316666</td>\n",
       "      <td>0.443954</td>\n",
       "      <td>0.443954</td>\n",
       "      <td>0.443954</td>\n",
       "    </tr>\n",
       "    <tr>\n",
       "      <th>1</th>\n",
       "      <td>2023-05-02 00:00:01.154625</td>\n",
       "      <td>11426</td>\n",
       "      <td>4975</td>\n",
       "      <td>1096</td>\n",
       "      <td>94</td>\n",
       "      <td>22</td>\n",
       "      <td>0</td>\n",
       "      <td>0</td>\n",
       "      <td>0.009547</td>\n",
       "      <td>0.121789</td>\n",
       "      <td>0.236346</td>\n",
       "      <td>0.315338</td>\n",
       "      <td>0.490778</td>\n",
       "      <td>0.490778</td>\n",
       "      <td>0.490778</td>\n",
       "    </tr>\n",
       "    <tr>\n",
       "      <th>2</th>\n",
       "      <td>2023-05-02 00:00:02.155689</td>\n",
       "      <td>11382</td>\n",
       "      <td>4851</td>\n",
       "      <td>1092</td>\n",
       "      <td>95</td>\n",
       "      <td>28</td>\n",
       "      <td>0</td>\n",
       "      <td>0</td>\n",
       "      <td>0.009511</td>\n",
       "      <td>0.118964</td>\n",
       "      <td>0.233116</td>\n",
       "      <td>0.312875</td>\n",
       "      <td>0.533701</td>\n",
       "      <td>0.533701</td>\n",
       "      <td>0.533701</td>\n",
       "    </tr>\n",
       "    <tr>\n",
       "      <th>3</th>\n",
       "      <td>2023-05-02 00:00:03.156913</td>\n",
       "      <td>11412</td>\n",
       "      <td>4737</td>\n",
       "      <td>1086</td>\n",
       "      <td>96</td>\n",
       "      <td>33</td>\n",
       "      <td>0</td>\n",
       "      <td>0</td>\n",
       "      <td>0.009536</td>\n",
       "      <td>0.116425</td>\n",
       "      <td>0.229902</td>\n",
       "      <td>0.310250</td>\n",
       "      <td>0.573414</td>\n",
       "      <td>0.573414</td>\n",
       "      <td>0.573414</td>\n",
       "    </tr>\n",
       "    <tr>\n",
       "      <th>4</th>\n",
       "      <td>2023-05-02 00:00:04.157472</td>\n",
       "      <td>11597</td>\n",
       "      <td>4747</td>\n",
       "      <td>1077</td>\n",
       "      <td>96</td>\n",
       "      <td>38</td>\n",
       "      <td>0</td>\n",
       "      <td>0</td>\n",
       "      <td>0.009691</td>\n",
       "      <td>0.116800</td>\n",
       "      <td>0.229366</td>\n",
       "      <td>0.310305</td>\n",
       "      <td>0.614702</td>\n",
       "      <td>0.614702</td>\n",
       "      <td>0.614702</td>\n",
       "    </tr>\n",
       "  </tbody>\n",
       "</table>\n",
       "</div>"
      ],
      "text/plain": [
       "                    dateTime  pc0_1  pc0_3  pc0_5  pc1_0  pc2_5  pc5_0  \\\n",
       "0 2023-05-02 00:00:00.153699  11512   5101   1093     93     16      0   \n",
       "1 2023-05-02 00:00:01.154625  11426   4975   1096     94     22      0   \n",
       "2 2023-05-02 00:00:02.155689  11382   4851   1092     95     28      0   \n",
       "3 2023-05-02 00:00:03.156913  11412   4737   1086     96     33      0   \n",
       "4 2023-05-02 00:00:04.157472  11597   4747   1077     96     38      0   \n",
       "\n",
       "   pc10_0     pm0_1     pm0_3     pm0_5     pm1_0     pm2_5     pm5_0  \\\n",
       "0       0  0.009619  0.124717  0.238913  0.316666  0.443954  0.443954   \n",
       "1       0  0.009547  0.121789  0.236346  0.315338  0.490778  0.490778   \n",
       "2       0  0.009511  0.118964  0.233116  0.312875  0.533701  0.533701   \n",
       "3       0  0.009536  0.116425  0.229902  0.310250  0.573414  0.573414   \n",
       "4       0  0.009691  0.116800  0.229366  0.310305  0.614702  0.614702   \n",
       "\n",
       "     pm10_0  \n",
       "0  0.443954  \n",
       "1  0.490778  \n",
       "2  0.533701  \n",
       "3  0.573414  \n",
       "4  0.614702  "
      ]
     },
     "execution_count": 4,
     "metadata": {},
     "output_type": "execute_result"
    }
   ],
   "source": [
    "#| echo: true\n",
    "#| output: true\n",
    "ips_url = \"https://ncsa.osn.xsede.org/ees230012-bucket01/central-node-8/2023/2023/05/02/MINTS_001e06323a37_IPS7100_2023_05_02.csv\"\n",
    "ips_df = loadData(ips_url)\n",
    "ips_df.head()"
   ]
  },
  {
   "attachments": {},
   "cell_type": "markdown",
   "id": "9e6a7eb2",
   "metadata": {
    "papermill": {
     "duration": 0.002,
     "end_time": "2023-05-31T22:00:24.913644",
     "exception": false,
     "start_time": "2023-05-31T22:00:24.911644",
     "status": "completed"
    },
    "tags": []
   },
   "source": [
    "### Dictionaries to get nicer labels"
   ]
  },
  {
   "cell_type": "code",
   "execution_count": 5,
   "id": "43d26653",
   "metadata": {
    "execution": {
     "iopub.execute_input": "2023-05-31T22:00:24.918643Z",
     "iopub.status.busy": "2023-05-31T22:00:24.918643Z",
     "iopub.status.idle": "2023-05-31T22:00:24.922643Z",
     "shell.execute_reply": "2023-05-31T22:00:24.922643Z"
    },
    "papermill": {
     "duration": 0.008,
     "end_time": "2023-05-31T22:00:24.923643",
     "exception": false,
     "start_time": "2023-05-31T22:00:24.915643",
     "status": "completed"
    },
    "tags": []
   },
   "outputs": [],
   "source": [
    "pm_labels = {\n",
    "    'pm0_1': 'PM$_{0.1}$',\n",
    "    'pm0_3': 'PM$_{0.3}$',\n",
    "    'pm0_5': 'PM$_{0.5}$',\n",
    "    'pm1_0': 'PM$_{1}$',\n",
    "    'pm2_5': 'PM$_{2.5}$',\n",
    "    'pm5_0': 'PM$_5$',\n",
    "    'pm10_0': 'PM$_{10}$'\n",
    "}\n",
    "pc_labels = {\n",
    "    'pc0_1': 'PC$_{0.1}$',\n",
    "    'pc0_3': 'PC$_{0.3}$',\n",
    "    'pc0_5': 'PC$_{0.5}$',\n",
    "    'pc1_0': 'PC$_{1}$',\n",
    "    'pc2_5': 'PC$_{2.5}$',\n",
    "    'pc5_0': 'PC$_5$',\n",
    "    'pc10_0': 'PC$_{10}$'\n",
    "}\n"
   ]
  },
  {
   "cell_type": "code",
   "execution_count": 6,
   "id": "e83f7237",
   "metadata": {
    "execution": {
     "iopub.execute_input": "2023-05-31T22:00:24.929644Z",
     "iopub.status.busy": "2023-05-31T22:00:24.928643Z",
     "iopub.status.idle": "2023-05-31T22:00:24.938643Z",
     "shell.execute_reply": "2023-05-31T22:00:24.938643Z"
    },
    "papermill": {
     "duration": 0.013,
     "end_time": "2023-05-31T22:00:24.939644",
     "exception": false,
     "start_time": "2023-05-31T22:00:24.926644",
     "status": "completed"
    },
    "tags": []
   },
   "outputs": [],
   "source": [
    "# sns.set()\n",
    "def plotPMwithAQS(df, pm_size):\n",
    "    \"\"\" \n",
    "    Plot a relevant PM concentration with 24-hr AQ standards from WHO, EEA, EPA\n",
    "\n",
    "    Args:\n",
    "        pm dataframe, pm_size to plot (as a string, \"pm2_5\",  \"pm10_0\", etc.)\n",
    "\n",
    "    Returns:\n",
    "        Nothing. Plot created\n",
    "    \n",
    "    \"\"\"\n",
    "\n",
    "    fig, ax = plt.subplots(figsize=(8,4), tight_layout=True)\n",
    "    ax.plot(df['dateTime'], df[pm_size], label=pm_labels[pm_size], color='orange')    \n",
    "    # plt.plot(pm_df['dateTime'], pm_df['pm2_5'].rolling(3600).mean(), label='1H SMA')\n",
    "    \n",
    "    if pm_size == 'pm2_5':\n",
    "        plt.axhline(y=25, ls='--', c='r', label='WHO & EEA')\n",
    "        plt.axhline(y=35, ls='--', c='purple', label='EPA')\n",
    "        ax.set_ylabel(f'{pm_labels[pm_size]} concentration ($\\mu g/ m^3$)' )\n",
    "        plt.title(f'Measured {pm_labels[pm_size]} Levels and \\nRecommended 24HR Air Quality Standards')\n",
    "    else:        \n",
    "        ax.set_ylabel(f'{pm_labels[pm_size]} concentration ($\\mu g/ m^3$)' )\n",
    "        plt.title(f'Measured {pm_labels[pm_size]} Levels')\n",
    "\n",
    "    \n",
    "    plt.xticks(rotation=45)\n",
    "    plt.xlabel('Time in UTC (MM:DD HH)')\n",
    "\n",
    "    ax.margins(x=0)\n",
    "    plt.ylim(0,)\n",
    "    plt.legend(loc='center left', bbox_to_anchor=(1, 0.5))"
   ]
  },
  {
   "cell_type": "code",
   "execution_count": 7,
   "id": "e4f4b352",
   "metadata": {
    "execution": {
     "iopub.execute_input": "2023-05-31T22:00:24.944643Z",
     "iopub.status.busy": "2023-05-31T22:00:24.944643Z",
     "iopub.status.idle": "2023-05-31T22:00:25.418649Z",
     "shell.execute_reply": "2023-05-31T22:00:25.418649Z"
    },
    "papermill": {
     "duration": 0.479006,
     "end_time": "2023-05-31T22:00:25.420650",
     "exception": false,
     "start_time": "2023-05-31T22:00:24.941644",
     "status": "completed"
    },
    "tags": []
   },
   "outputs": [
    {
     "data": {
      "image/png": "[encoded data removed]",
      "text/plain": [
       "<Figure size 800x400 with 1 Axes>"
      ]
     },
     "metadata": {},
     "output_type": "display_data"
    }
   ],
   "source": [
    "#| echo: true\n",
    "#| output: true\n",
    "plotPMwithAQS(ips_df, 'pm2_5')"
   ]
  }
 ],
 "metadata": {
  "kernelspec": {
   "display_name": "f22-test",
   "language": "python",
   "name": "python3"
  },
  "language_info": {
   "codemirror_mode": {
    "name": "ipython",
    "version": 3
   },
   "file_extension": ".py",
   "mimetype": "text/x-python",
   "name": "python",
   "nbconvert_exporter": "python",
   "pygments_lexer": "ipython3",
   "version": "3.9.16"
  },
  "papermill": {
   "default_parameters": {},
   "duration": 4.706725,
   "end_time": "2023-05-31T22:00:25.655653",
   "environment_variables": {},
   "exception": null,
   "input_path": "..\\notebooks\\pm_data.ipynb",
   "output_path": ".\\test\\pm_data.ipynb",
   "parameters": {},
   "start_time": "2023-05-31T22:00:20.948928",
   "version": "2.3.4"
  }
 },
 "nbformat": 4,
 "nbformat_minor": 5
}